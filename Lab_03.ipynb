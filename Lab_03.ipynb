{
  "nbformat": 4,
  "nbformat_minor": 0,
  "metadata": {
    "colab": {
      "provenance": [],
      "authorship_tag": "ABX9TyNmLSNTrY7lIc2YvKE93HY+",
      "include_colab_link": true
    },
    "kernelspec": {
      "name": "python3",
      "display_name": "Python 3"
    },
    "language_info": {
      "name": "python"
    }
  },
  "cells": [
    {
      "cell_type": "markdown",
      "metadata": {
        "id": "view-in-github",
        "colab_type": "text"
      },
      "source": [
        "<a href=\"https://colab.research.google.com/github/2303A52441/AI-ML/blob/main/Lab_03.ipynb\" target=\"_parent\"><img src=\"https://colab.research.google.com/assets/colab-badge.svg\" alt=\"Open In Colab\"/></a>"
      ]
    },
    {
      "cell_type": "code",
      "execution_count": 1,
      "metadata": {
        "id": "uk6rRCmivC6x",
        "outputId": "b7050a59-a520-48bc-c77b-3d8e06896bf9",
        "colab": {
          "base_uri": "https://localhost:8080/"
        }
      },
      "outputs": [
        {
          "output_type": "stream",
          "name": "stdout",
          "text": [
            "['B', 'A', 'D', 'C', 'F', 'E', 'H', 'G']\n"
          ]
        }
      ],
      "source": [
        "graph={\n",
        "    'A':['D','C','G'],\n",
        "    'B':['A'],\n",
        "    'C':['A','D','F'],\n",
        "    'D':['A','C','E','H'],\n",
        "    'E':['D','H','F'],\n",
        "    'F':['C','E'],\n",
        "    'G':['A','D','H'],\n",
        "    'H':['D','E','G']\n",
        "}\n",
        "def dfs(graph,node,visited):\n",
        "  if node not in visited:\n",
        "    visited.append(node)\n",
        "    for k in graph[node]:\n",
        "      dfs(graph,k,visited)\n",
        "  return visited\n",
        "visited=dfs(graph,'B',[])\n",
        "print(visited)"
      ]
    }
  ]
}