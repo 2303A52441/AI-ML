{
  "cells": [
    {
      "cell_type": "markdown",
      "metadata": {
        "id": "view-in-github",
        "colab_type": "text"
      },
      "source": [
        "<a href=\"https://colab.research.google.com/github/2303A52441/AI-ML/blob/main/2303A52441_Set_A_Batch_37.ipynb\" target=\"_parent\"><img src=\"https://colab.research.google.com/assets/colab-badge.svg\" alt=\"Open In Colab\"/></a>"
      ]
    },
    {
      "cell_type": "code",
      "source": [
        "import pandas as pd\n",
        "import numpy as np\n",
        "import matplotlib.pyplot as plt\n",
        "import seaborn as sns\n",
        "data = pd.read_csv('/content/Absenteeism_at_work.csv')\n",
        "data.head(), data.info()\n"
      ],
      "metadata": {
        "colab": {
          "base_uri": "https://localhost:8080/"
        },
        "id": "FrUxupnmCavF",
        "outputId": "4e41ee0c-238a-47fe-8681-1b919b273e68"
      },
      "execution_count": null,
      "outputs": [
        {
          "output_type": "stream",
          "name": "stdout",
          "text": [
            "<class 'pandas.core.frame.DataFrame'>\n",
            "RangeIndex: 740 entries, 0 to 739\n",
            "Data columns (total 21 columns):\n",
            " #   Column                           Non-Null Count  Dtype \n",
            "---  ------                           --------------  ----- \n",
            " 0   ID                               740 non-null    int64 \n",
            " 1   Reason for absence               740 non-null    int64 \n",
            " 2   Month of absence                 740 non-null    int64 \n",
            " 3   Day of the week                  740 non-null    int64 \n",
            " 4   Seasons                          740 non-null    int64 \n",
            " 5   Transportation expense           740 non-null    int64 \n",
            " 6   Distance from Residence to Work  740 non-null    int64 \n",
            " 7   Service time                     740 non-null    int64 \n",
            " 8   Age                              740 non-null    int64 \n",
            " 9   Work load Average/day            740 non-null    object\n",
            " 10  Hit target                       740 non-null    int64 \n",
            " 11  Disciplinary failure             740 non-null    int64 \n",
            " 12  Education                        740 non-null    int64 \n",
            " 13  Son                              740 non-null    int64 \n",
            " 14  Social drinker                   740 non-null    int64 \n",
            " 15  Social smoker                    740 non-null    int64 \n",
            " 16  Pet                              740 non-null    int64 \n",
            " 17  Weight                           740 non-null    int64 \n",
            " 18  Height                           740 non-null    int64 \n",
            " 19  Body mass index                  740 non-null    int64 \n",
            " 20  Absenteeism time in hours        740 non-null    int64 \n",
            "dtypes: int64(20), object(1)\n",
            "memory usage: 121.5+ KB\n"
          ]
        },
        {
          "output_type": "execute_result",
          "data": {
            "text/plain": [
              "(   ID  Reason for absence  Month of absence  Day of the week  Seasons  \\\n",
              " 0  11                  26                 7                3        1   \n",
              " 1  36                   0                 7                3        1   \n",
              " 2   3                  23                 7                4        1   \n",
              " 3   7                   7                 7                5        1   \n",
              " 4  11                  23                 7                5        1   \n",
              " \n",
              "    Transportation expense  Distance from Residence to Work  Service time  Age  \\\n",
              " 0                     289                               36            13   33   \n",
              " 1                     118                               13            18   50   \n",
              " 2                     179                               51            18   38   \n",
              " 3                     279                                5            14   39   \n",
              " 4                     289                               36            13   33   \n",
              " \n",
              "   Work load Average/day   ...  Disciplinary failure  Education  Son  \\\n",
              " 0                239,554  ...                     0          1    2   \n",
              " 1                239,554  ...                     1          1    1   \n",
              " 2                239,554  ...                     0          1    0   \n",
              " 3                239,554  ...                     0          1    2   \n",
              " 4                239,554  ...                     0          1    2   \n",
              " \n",
              "    Social drinker  Social smoker  Pet  Weight  Height  Body mass index  \\\n",
              " 0               1              0    1      90     172               30   \n",
              " 1               1              0    0      98     178               31   \n",
              " 2               1              0    0      89     170               31   \n",
              " 3               1              1    0      68     168               24   \n",
              " 4               1              0    1      90     172               30   \n",
              " \n",
              "    Absenteeism time in hours  \n",
              " 0                          4  \n",
              " 1                          0  \n",
              " 2                          2  \n",
              " 3                          4  \n",
              " 4                          2  \n",
              " \n",
              " [5 rows x 21 columns],\n",
              " None)"
            ]
          },
          "metadata": {},
          "execution_count": 33
        }
      ]
    },
    {
      "cell_type": "code",
      "execution_count": null,
      "metadata": {
        "colab": {
          "base_uri": "https://localhost:8080/"
        },
        "id": "os6wwU6N1yOr",
        "outputId": "8d0143d7-bc09-462c-8108-f281d28e67b2"
      },
      "outputs": [
        {
          "output_type": "stream",
          "name": "stdout",
          "text": [
            "<class 'pandas.core.frame.DataFrame'>\n",
            "RangeIndex: 740 entries, 0 to 739\n",
            "Data columns (total 21 columns):\n",
            " #   Column                           Non-Null Count  Dtype \n",
            "---  ------                           --------------  ----- \n",
            " 0   ID                               740 non-null    int64 \n",
            " 1   Reason for absence               740 non-null    int64 \n",
            " 2   Month of absence                 740 non-null    int64 \n",
            " 3   Day of the week                  740 non-null    int64 \n",
            " 4   Seasons                          740 non-null    int64 \n",
            " 5   Transportation expense           740 non-null    int64 \n",
            " 6   Distance from Residence to Work  740 non-null    int64 \n",
            " 7   Service time                     740 non-null    int64 \n",
            " 8   Age                              740 non-null    int64 \n",
            " 9   Work load Average/day            740 non-null    object\n",
            " 10  Hit target                       740 non-null    int64 \n",
            " 11  Disciplinary failure             740 non-null    int64 \n",
            " 12  Education                        740 non-null    int64 \n",
            " 13  Son                              740 non-null    int64 \n",
            " 14  Social drinker                   740 non-null    int64 \n",
            " 15  Social smoker                    740 non-null    int64 \n",
            " 16  Pet                              740 non-null    int64 \n",
            " 17  Weight                           740 non-null    int64 \n",
            " 18  Height                           740 non-null    int64 \n",
            " 19  Body mass index                  740 non-null    int64 \n",
            " 20  Absenteeism time in hours        740 non-null    int64 \n",
            "dtypes: int64(20), object(1)\n",
            "memory usage: 121.5+ KB\n"
          ]
        },
        {
          "output_type": "execute_result",
          "data": {
            "text/plain": [
              "(   ID  Reason for absence  Month of absence  Day of the week  Seasons  \\\n",
              " 0  11                  26                 7                3        1   \n",
              " 1  36                   0                 7                3        1   \n",
              " 2   3                  23                 7                4        1   \n",
              " 3   7                   7                 7                5        1   \n",
              " 4  11                  23                 7                5        1   \n",
              " \n",
              "    Transportation expense  Distance from Residence to Work  Service time  Age  \\\n",
              " 0                     289                               36            13   33   \n",
              " 1                     118                               13            18   50   \n",
              " 2                     179                               51            18   38   \n",
              " 3                     279                                5            14   39   \n",
              " 4                     289                               36            13   33   \n",
              " \n",
              "   Work load Average/day   ...  Disciplinary failure  Education  Son  \\\n",
              " 0                239,554  ...                     0          1    2   \n",
              " 1                239,554  ...                     1          1    1   \n",
              " 2                239,554  ...                     0          1    0   \n",
              " 3                239,554  ...                     0          1    2   \n",
              " 4                239,554  ...                     0          1    2   \n",
              " \n",
              "    Social drinker  Social smoker  Pet  Weight  Height  Body mass index  \\\n",
              " 0               1              0    1      90     172               30   \n",
              " 1               1              0    0      98     178               31   \n",
              " 2               1              0    0      89     170               31   \n",
              " 3               1              1    0      68     168               24   \n",
              " 4               1              0    1      90     172               30   \n",
              " \n",
              "    Absenteeism time in hours  \n",
              " 0                          4  \n",
              " 1                          0  \n",
              " 2                          2  \n",
              " 3                          4  \n",
              " 4                          2  \n",
              " \n",
              " [5 rows x 21 columns],\n",
              " None)"
            ]
          },
          "metadata": {},
          "execution_count": 34
        }
      ],
      "source": [
        "data.head(), data.info()"
      ]
    },
    {
      "cell_type": "code",
      "execution_count": null,
      "metadata": {
        "colab": {
          "base_uri": "https://localhost:8080/"
        },
        "id": "QfeRjfFw2TZY",
        "outputId": "f1020ec4-05ae-4a9f-90bf-d587f5c69786"
      },
      "outputs": [
        {
          "output_type": "stream",
          "name": "stdout",
          "text": [
            "<class 'pandas.core.frame.DataFrame'>\n",
            "RangeIndex: 740 entries, 0 to 739\n",
            "Data columns (total 21 columns):\n",
            " #   Column                           Non-Null Count  Dtype \n",
            "---  ------                           --------------  ----- \n",
            " 0   ID                               740 non-null    int64 \n",
            " 1   Reason for absence               740 non-null    int64 \n",
            " 2   Month of absence                 740 non-null    int64 \n",
            " 3   Day of the week                  740 non-null    int64 \n",
            " 4   Seasons                          740 non-null    int64 \n",
            " 5   Transportation expense           740 non-null    int64 \n",
            " 6   Distance from Residence to Work  740 non-null    int64 \n",
            " 7   Service time                     740 non-null    int64 \n",
            " 8   Age                              740 non-null    int64 \n",
            " 9   Work load Average/day            740 non-null    object\n",
            " 10  Hit target                       740 non-null    int64 \n",
            " 11  Disciplinary failure             740 non-null    int64 \n",
            " 12  Education                        740 non-null    int64 \n",
            " 13  Son                              740 non-null    int64 \n",
            " 14  Social drinker                   740 non-null    int64 \n",
            " 15  Social smoker                    740 non-null    int64 \n",
            " 16  Pet                              740 non-null    int64 \n",
            " 17  Weight                           740 non-null    int64 \n",
            " 18  Height                           740 non-null    int64 \n",
            " 19  Body mass index                  740 non-null    int64 \n",
            " 20  Absenteeism time in hours        740 non-null    int64 \n",
            "dtypes: int64(20), object(1)\n",
            "memory usage: 121.5+ KB\n"
          ]
        },
        {
          "output_type": "execute_result",
          "data": {
            "text/plain": [
              "(     ID  Reason for absence  Month of absence  Day of the week  Seasons  \\\n",
              " 735  11                  14                 7                3        1   \n",
              " 736   1                  11                 7                3        1   \n",
              " 737   4                   0                 0                3        1   \n",
              " 738   8                   0                 0                4        2   \n",
              " 739  35                   0                 0                6        3   \n",
              " \n",
              "      Transportation expense  Distance from Residence to Work  Service time  \\\n",
              " 735                     289                               36            13   \n",
              " 736                     235                               11            14   \n",
              " 737                     118                               14            13   \n",
              " 738                     231                               35            14   \n",
              " 739                     179                               45            14   \n",
              " \n",
              "      Age Work load Average/day   ...  Disciplinary failure  Education  Son  \\\n",
              " 735   33                264,604  ...                     0          1    2   \n",
              " 736   37                264,604  ...                     0          3    1   \n",
              " 737   40                271,219  ...                     0          1    1   \n",
              " 738   39                271,219  ...                     0          1    2   \n",
              " 739   53                271,219  ...                     0          1    1   \n",
              " \n",
              "      Social drinker  Social smoker  Pet  Weight  Height  Body mass index  \\\n",
              " 735               1              0    1      90     172               30   \n",
              " 736               0              0    1      88     172               29   \n",
              " 737               1              0    8      98     170               34   \n",
              " 738               1              0    2     100     170               35   \n",
              " 739               0              0    1      77     175               25   \n",
              " \n",
              "      Absenteeism time in hours  \n",
              " 735                          8  \n",
              " 736                          4  \n",
              " 737                          0  \n",
              " 738                          0  \n",
              " 739                          0  \n",
              " \n",
              " [5 rows x 21 columns],\n",
              " None)"
            ]
          },
          "metadata": {},
          "execution_count": 35
        }
      ],
      "source": [
        "data.tail(), data.info()"
      ]
    },
    {
      "cell_type": "markdown",
      "metadata": {
        "id": "6F8gkCpg4GPE"
      },
      "source": [
        "01. Identify the top 5 reasons for absenteesim at work\n"
      ]
    },
    {
      "cell_type": "code",
      "execution_count": null,
      "metadata": {
        "colab": {
          "base_uri": "https://localhost:8080/"
        },
        "id": "uwBBcUFt31bI",
        "outputId": "073d54f2-de77-4f04-9296-8dfc88879087"
      },
      "outputs": [
        {
          "output_type": "stream",
          "name": "stdout",
          "text": [
            "   ID  Reason for absence  Month of absence  Day of the week  Seasons  \\\n",
            "0  11                  26                 7                3        1   \n",
            "1  36                   0                 7                3        1   \n",
            "2   3                  23                 7                4        1   \n",
            "3   7                   7                 7                5        1   \n",
            "4  11                  23                 7                5        1   \n",
            "\n",
            "   Transportation expense  Distance from Residence to Work  Service time  Age  \\\n",
            "0                     289                               36            13   33   \n",
            "1                     118                               13            18   50   \n",
            "2                     179                               51            18   38   \n",
            "3                     279                                5            14   39   \n",
            "4                     289                               36            13   33   \n",
            "\n",
            "  Work load Average/day   ...  Disciplinary failure  Education  Son  \\\n",
            "0                239,554  ...                     0          1    2   \n",
            "1                239,554  ...                     1          1    1   \n",
            "2                239,554  ...                     0          1    0   \n",
            "3                239,554  ...                     0          1    2   \n",
            "4                239,554  ...                     0          1    2   \n",
            "\n",
            "   Social drinker  Social smoker  Pet  Weight  Height  Body mass index  \\\n",
            "0               1              0    1      90     172               30   \n",
            "1               1              0    0      98     178               31   \n",
            "2               1              0    0      89     170               31   \n",
            "3               1              1    0      68     168               24   \n",
            "4               1              0    1      90     172               30   \n",
            "\n",
            "   Absenteeism time in hours  \n",
            "0                          4  \n",
            "1                          0  \n",
            "2                          2  \n",
            "3                          4  \n",
            "4                          2  \n",
            "\n",
            "[5 rows x 21 columns]\n",
            "Top 5 Reasons for Absenteeism:\n",
            "Reason for absence\n",
            "23    149\n",
            "28    112\n",
            "27     69\n",
            "13     55\n",
            "0      43\n",
            "Name: count, dtype: int64\n"
          ]
        }
      ],
      "source": [
        "print(data.head())\n",
        "reason_counts = data['Reason for absence'].value_counts()\n",
        "top_5_reasons = reason_counts.head(5)\n",
        "print(\"Top 5 Reasons for Absenteeism:\")\n",
        "print(top_5_reasons)"
      ]
    },
    {
      "cell_type": "markdown",
      "metadata": {
        "id": "ItsjTftS4crT"
      },
      "source": [
        "02. Identify the day of week with most absenteesim at *work*"
      ]
    },
    {
      "cell_type": "code",
      "execution_count": null,
      "metadata": {
        "colab": {
          "base_uri": "https://localhost:8080/"
        },
        "id": "JoSiK4JR7tvk",
        "outputId": "0e72a78a-a7bf-4ee0-f00c-323b39b07209"
      },
      "outputs": [
        {
          "output_type": "stream",
          "name": "stdout",
          "text": [
            "   ID  Reason for absence  Month of absence  Day of the week  Seasons  \\\n",
            "0  11                  26                 7                3        1   \n",
            "1  36                   0                 7                3        1   \n",
            "2   3                  23                 7                4        1   \n",
            "3   7                   7                 7                5        1   \n",
            "4  11                  23                 7                5        1   \n",
            "\n",
            "   Transportation expense  Distance from Residence to Work  Service time  Age  \\\n",
            "0                     289                               36            13   33   \n",
            "1                     118                               13            18   50   \n",
            "2                     179                               51            18   38   \n",
            "3                     279                                5            14   39   \n",
            "4                     289                               36            13   33   \n",
            "\n",
            "  Work load Average/day   ...  Disciplinary failure  Education  Son  \\\n",
            "0                239,554  ...                     0          1    2   \n",
            "1                239,554  ...                     1          1    1   \n",
            "2                239,554  ...                     0          1    0   \n",
            "3                239,554  ...                     0          1    2   \n",
            "4                239,554  ...                     0          1    2   \n",
            "\n",
            "   Social drinker  Social smoker  Pet  Weight  Height  Body mass index  \\\n",
            "0               1              0    1      90     172               30   \n",
            "1               1              0    0      98     178               31   \n",
            "2               1              0    0      89     170               31   \n",
            "3               1              1    0      68     168               24   \n",
            "4               1              0    1      90     172               30   \n",
            "\n",
            "   Absenteeism time in hours  \n",
            "0                          4  \n",
            "1                          0  \n",
            "2                          2  \n",
            "3                          4  \n",
            "4                          2  \n",
            "\n",
            "[5 rows x 21 columns]\n",
            "Absenteeism Counts by Day of the Week:\n",
            "Day of the week\n",
            "2    161\n",
            "4    156\n",
            "3    154\n",
            "6    144\n",
            "5    125\n",
            "Name: count, dtype: int64\n",
            "\n",
            "The day with the most absenteeism is: 2 (Count: 161)\n"
          ]
        }
      ],
      "source": [
        "print(data.head())\n",
        "day_counts = data['Day of the week'].value_counts()\n",
        "most_absent_day = day_counts.idxmax()\n",
        "most_absent_count = day_counts.max()\n",
        "\n",
        "print(\"Absenteeism Counts by Day of the Week:\")\n",
        "print(day_counts)\n",
        "print(f\"\\nThe day with the most absenteeism is: {most_absent_day} (Count: {most_absent_count})\")"
      ]
    },
    {
      "cell_type": "markdown",
      "metadata": {
        "id": "W0bWD6ma7zGg"
      },
      "source": [
        "03. Find the max and min age of employees of company"
      ]
    },
    {
      "cell_type": "code",
      "source": [
        "import pandas as pd\n",
        "data_path = 'Absenteeism_at_work.csv'\n",
        "data = pd.read_csv(data_path)\n",
        "\n",
        "print(data.head())\n",
        "max_age = data['Age'].max()\n",
        "min_age = data['Age'].min()\n",
        "print(f\"The maximum age of employees is: {max_age}\")\n",
        "print(f\"The minimum age of employees is: {min_age}\")\n"
      ],
      "metadata": {
        "colab": {
          "base_uri": "https://localhost:8080/"
        },
        "id": "9vIrZVwODSDB",
        "outputId": "dcaf4749-0b48-485e-a9de-0f1b84a90cf8"
      },
      "execution_count": null,
      "outputs": [
        {
          "output_type": "stream",
          "name": "stdout",
          "text": [
            "   ID  Reason for absence  Month of absence  Day of the week  Seasons  \\\n",
            "0  11                  26                 7                3        1   \n",
            "1  36                   0                 7                3        1   \n",
            "2   3                  23                 7                4        1   \n",
            "3   7                   7                 7                5        1   \n",
            "4  11                  23                 7                5        1   \n",
            "\n",
            "   Transportation expense  Distance from Residence to Work  Service time  Age  \\\n",
            "0                     289                               36            13   33   \n",
            "1                     118                               13            18   50   \n",
            "2                     179                               51            18   38   \n",
            "3                     279                                5            14   39   \n",
            "4                     289                               36            13   33   \n",
            "\n",
            "  Work load Average/day   ...  Disciplinary failure  Education  Son  \\\n",
            "0                239,554  ...                     0          1    2   \n",
            "1                239,554  ...                     1          1    1   \n",
            "2                239,554  ...                     0          1    0   \n",
            "3                239,554  ...                     0          1    2   \n",
            "4                239,554  ...                     0          1    2   \n",
            "\n",
            "   Social drinker  Social smoker  Pet  Weight  Height  Body mass index  \\\n",
            "0               1              0    1      90     172               30   \n",
            "1               1              0    0      98     178               31   \n",
            "2               1              0    0      89     170               31   \n",
            "3               1              1    0      68     168               24   \n",
            "4               1              0    1      90     172               30   \n",
            "\n",
            "   Absenteeism time in hours  \n",
            "0                          4  \n",
            "1                          0  \n",
            "2                          2  \n",
            "3                          4  \n",
            "4                          2  \n",
            "\n",
            "[5 rows x 21 columns]\n",
            "The maximum age of employees is: 58\n",
            "The minimum age of employees is: 27\n"
          ]
        }
      ]
    },
    {
      "cell_type": "markdown",
      "source": [
        "04. Name the seasons when absenteeism was most"
      ],
      "metadata": {
        "id": "EM23A54rDZ56"
      }
    },
    {
      "source": [
        "import pandas as pd\n",
        "\n",
        "data_path = 'Absenteeism_at_work.csv'\n",
        "data = pd.read_csv(data_path)\n",
        "print(data.head())\n",
        "\n",
        "data = data.rename(columns={'Month of absence': 'Month'})\n",
        "def get_season(month):\n",
        "    if month in [12, 1, 2]:\n",
        "        return 'Winter'\n",
        "    elif month in [3, 4, 5]:\n",
        "        return 'Spring'\n",
        "    elif month in [6, 7, 8]:\n",
        "        return 'Summer'\n",
        "    elif month in [9, 10, 11]:\n",
        "        return 'Fall'\n",
        "\n",
        "data['Season'] = data['Month'].apply(get_season)\n",
        "season_counts = data['Season'].value_counts()\n",
        "most_absent_season = season_counts.idxmax()\n",
        "most_absent_count = season_counts.max()\n",
        "print(\"Absenteeism Counts by Season:\")\n",
        "print(season_counts)\n",
        "print(f\"\\nThe season with the most absenteeism is: {most_absent_season} (Count: {most_absent_count})\")"
      ],
      "cell_type": "code",
      "metadata": {
        "colab": {
          "base_uri": "https://localhost:8080/"
        },
        "id": "Yh_Hgwj1Drq_",
        "outputId": "c2629c14-96d1-4e56-d163-7542f834dfc0"
      },
      "execution_count": null,
      "outputs": [
        {
          "output_type": "stream",
          "name": "stdout",
          "text": [
            "   ID  Reason for absence  Month of absence  Day of the week  Seasons  \\\n",
            "0  11                  26                 7                3        1   \n",
            "1  36                   0                 7                3        1   \n",
            "2   3                  23                 7                4        1   \n",
            "3   7                   7                 7                5        1   \n",
            "4  11                  23                 7                5        1   \n",
            "\n",
            "   Transportation expense  Distance from Residence to Work  Service time  Age  \\\n",
            "0                     289                               36            13   33   \n",
            "1                     118                               13            18   50   \n",
            "2                     179                               51            18   38   \n",
            "3                     279                                5            14   39   \n",
            "4                     289                               36            13   33   \n",
            "\n",
            "  Work load Average/day   ...  Disciplinary failure  Education  Son  \\\n",
            "0                239,554  ...                     0          1    2   \n",
            "1                239,554  ...                     1          1    1   \n",
            "2                239,554  ...                     0          1    0   \n",
            "3                239,554  ...                     0          1    2   \n",
            "4                239,554  ...                     0          1    2   \n",
            "\n",
            "   Social drinker  Social smoker  Pet  Weight  Height  Body mass index  \\\n",
            "0               1              0    1      90     172               30   \n",
            "1               1              0    0      98     178               31   \n",
            "2               1              0    0      89     170               31   \n",
            "3               1              1    0      68     168               24   \n",
            "4               1              0    1      90     172               30   \n",
            "\n",
            "   Absenteeism time in hours  \n",
            "0                          4  \n",
            "1                          0  \n",
            "2                          2  \n",
            "3                          4  \n",
            "4                          2  \n",
            "\n",
            "[5 rows x 21 columns]\n",
            "Absenteeism Counts by Season:\n",
            "Season\n",
            "Spring    204\n",
            "Fall      187\n",
            "Summer    175\n",
            "Winter    171\n",
            "Name: count, dtype: int64\n",
            "\n",
            "The season with the most absenteeism is: Spring (Count: 204)\n"
          ]
        }
      ]
    },
    {
      "cell_type": "markdown",
      "source": [
        "05. Identify the highest educational qualification of the employees."
      ],
      "metadata": {
        "id": "oGQwHLk4D9DG"
      }
    },
    {
      "cell_type": "code",
      "source": [
        "import pandas as pd\n",
        "data_path = 'Absenteeism_at_work.csv'\n",
        "data = pd.read_csv(data_path)\n",
        "print(data.head())\n",
        "highest_qualification_code = data['Education'].max()\n",
        "\n",
        "education_mapping = {\n",
        "    1: \"High School\",\n",
        "    2: \"Graduate\",\n",
        "    3: \"Postgraduate\",\n",
        "    4: \"PhD\"\n",
        "}\n",
        "\n",
        "highest_qualification = education_mapping.get(highest_qualification_code, \"Unknown\")\n",
        "print(f\"The highest educational qualification of employees is: {highest_qualification}\")\n"
      ],
      "metadata": {
        "colab": {
          "base_uri": "https://localhost:8080/"
        },
        "id": "b79i03CLD5Sl",
        "outputId": "018fa050-4bbc-4559-f8f4-2b832d7f2093"
      },
      "execution_count": null,
      "outputs": [
        {
          "output_type": "stream",
          "name": "stdout",
          "text": [
            "   ID  Reason for absence  Month of absence  Day of the week  Seasons  \\\n",
            "0  11                  26                 7                3        1   \n",
            "1  36                   0                 7                3        1   \n",
            "2   3                  23                 7                4        1   \n",
            "3   7                   7                 7                5        1   \n",
            "4  11                  23                 7                5        1   \n",
            "\n",
            "   Transportation expense  Distance from Residence to Work  Service time  Age  \\\n",
            "0                     289                               36            13   33   \n",
            "1                     118                               13            18   50   \n",
            "2                     179                               51            18   38   \n",
            "3                     279                                5            14   39   \n",
            "4                     289                               36            13   33   \n",
            "\n",
            "  Work load Average/day   ...  Disciplinary failure  Education  Son  \\\n",
            "0                239,554  ...                     0          1    2   \n",
            "1                239,554  ...                     1          1    1   \n",
            "2                239,554  ...                     0          1    0   \n",
            "3                239,554  ...                     0          1    2   \n",
            "4                239,554  ...                     0          1    2   \n",
            "\n",
            "   Social drinker  Social smoker  Pet  Weight  Height  Body mass index  \\\n",
            "0               1              0    1      90     172               30   \n",
            "1               1              0    0      98     178               31   \n",
            "2               1              0    0      89     170               31   \n",
            "3               1              1    0      68     168               24   \n",
            "4               1              0    1      90     172               30   \n",
            "\n",
            "   Absenteeism time in hours  \n",
            "0                          4  \n",
            "1                          0  \n",
            "2                          2  \n",
            "3                          4  \n",
            "4                          2  \n",
            "\n",
            "[5 rows x 21 columns]\n",
            "The highest educational qualification of employees is: PhD\n"
          ]
        }
      ]
    },
    {
      "cell_type": "markdown",
      "source": [
        "06. Apply either Classification Model or Clustering Model to evaluate the dataset"
      ],
      "metadata": {
        "id": "eeuqrRecEICE"
      }
    },
    {
      "source": [
        "import pandas as pd\n",
        "from sklearn.cluster import KMeans\n",
        "from sklearn.preprocessing import StandardScaler\n",
        "import matplotlib.pyplot as plt\n",
        "data_path = 'Absenteeism_at_work.csv'\n",
        "data = pd.read_csv(data_path)\n",
        "\n",
        "print(data.columns)\n",
        "\n",
        "features = ['Age', 'Transportation expense', 'Distance from Residence to Work', 'Service time', 'Absenteeism time in hours']\n",
        "X = data[features]\n",
        "X.fillna(X.mean(), inplace=True)\n",
        "scaler = StandardScaler()\n",
        "X_scaled = scaler.fit_transform(X)\n",
        "kmeans = KMeans(n_clusters=3, random_state=42)\n",
        "data['Cluster'] = kmeans.fit_predict(X_scaled)\n",
        "\n",
        "print(data['Cluster'].value_counts())\n",
        "plt.scatter(X_scaled[:, 0], X_scaled[:, 1], c=data['Cluster'], cmap='viridis')\n",
        "plt.title(\"Clusters of Employees\")\n",
        "plt.xlabel(features[0])\n",
        "plt.ylabel(features[1])\n",
        "plt.show()"
      ],
      "cell_type": "code",
      "metadata": {
        "colab": {
          "base_uri": "https://localhost:8080/",
          "height": 767
        },
        "id": "NIjBi4xCEx5A",
        "outputId": "f03177ff-9df0-4bf9-ead1-ab9441812bde"
      },
      "execution_count": null,
      "outputs": [
        {
          "output_type": "stream",
          "name": "stdout",
          "text": [
            "Index(['ID', 'Reason for absence', 'Month of absence', 'Day of the week',\n",
            "       'Seasons', 'Transportation expense', 'Distance from Residence to Work',\n",
            "       'Service time', 'Age', 'Work load Average/day ', 'Hit target',\n",
            "       'Disciplinary failure', 'Education', 'Son', 'Social drinker',\n",
            "       'Social smoker', 'Pet', 'Weight', 'Height', 'Body mass index',\n",
            "       'Absenteeism time in hours'],\n",
            "      dtype='object')\n",
            "Cluster\n",
            "1    385\n",
            "0    340\n",
            "2     15\n",
            "Name: count, dtype: int64\n"
          ]
        },
        {
          "output_type": "stream",
          "name": "stderr",
          "text": [
            "<ipython-input-53-7c2db0732960>:12: SettingWithCopyWarning: \n",
            "A value is trying to be set on a copy of a slice from a DataFrame\n",
            "\n",
            "See the caveats in the documentation: https://pandas.pydata.org/pandas-docs/stable/user_guide/indexing.html#returning-a-view-versus-a-copy\n",
            "  X.fillna(X.mean(), inplace=True)\n"
          ]
        },
        {
          "output_type": "display_data",
          "data": {
            "text/plain": [
              "<Figure size 640x480 with 1 Axes>"
            ],
            "image/png": "[encoded data removed]"
          },
          "metadata": {}
        }
      ]
    }
  ],
  "metadata": {
    "colab": {
      "provenance": [],
      "authorship_tag": "ABX9TyOcQQZFJ5m4u2lOCFkTQJ3z",
      "include_colab_link": true
    },
    "kernelspec": {
      "display_name": "Python 3",
      "name": "python3"
    },
    "language_info": {
      "name": "python"
    }
  },
  "nbformat": 4,
  "nbformat_minor": 0
}